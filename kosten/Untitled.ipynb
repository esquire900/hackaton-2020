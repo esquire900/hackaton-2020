{
 "cells": [
  {
   "cell_type": "code",
   "execution_count": 44,
   "metadata": {},
   "outputs": [],
   "source": [
    "import pandas as pd\n",
    "\n",
    "df = pd.read_csv('./../dashboard layout/data/df_%groen.csv', sep=';')\n",
    "df_area = pd.read_hdf('./area.hdf', 'key').set_index('BU_NAAM')\n",
    "\n",
    "df = df[['BU_NAAM', 'perc_groen']].set_index(\"BU_NAAM\")\n",
    "\n",
    "# https://zoek.officielebekendmakingen.nl/gmb-2020-83481.html\n",
    "df_area['breda_subsidie'] = df_area.area*20 / 10\n",
    "df = pd.merge(df_area, df, how='inner', left_index=True, right_index=True)\n",
    "\n",
    "df.perc_groen /= 100\n",
    "df['premie_huidige'] = df.breda_subsidie * df.perc_groen\n",
    "df['premie_nog_te_halen'] = df.breda_subsidie * (1-df.perc_groen)"
   ]
  },
  {
   "cell_type": "code",
   "execution_count": 48,
   "metadata": {},
   "outputs": [],
   "source": [
    "df.sort_values('premie_huidige').to_hdf('./kosten-schatting.hdf', 'key')"
   ]
  },
  {
   "cell_type": "code",
   "execution_count": 47,
   "metadata": {},
   "outputs": [
    {
     "data": {
      "text/plain": [
       "3217777.3048215457"
      ]
     },
     "execution_count": 47,
     "metadata": {},
     "output_type": "execute_result"
    }
   ],
   "source": [
    "df.head()"
   ]
  }
 ],
 "metadata": {
  "kernelspec": {
   "display_name": "Python 3",
   "language": "python",
   "name": "python3"
  },
  "language_info": {
   "codemirror_mode": {
    "name": "ipython",
    "version": 3
   },
   "file_extension": ".py",
   "mimetype": "text/x-python",
   "name": "python",
   "nbconvert_exporter": "python",
   "pygments_lexer": "ipython3",
   "version": "3.7.6"
  }
 },
 "nbformat": 4,
 "nbformat_minor": 4
}
