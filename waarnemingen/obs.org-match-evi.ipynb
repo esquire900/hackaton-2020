{
 "cells": [
  {
   "cell_type": "code",
   "execution_count": 147,
   "metadata": {},
   "outputs": [
    {
     "name": "stdout",
     "output_type": "stream",
     "text": [
      "The lab_black extension is already loaded. To reload it, use:\n",
      "  %reload_ext lab_black\n"
     ]
    }
   ],
   "source": [
    "%load_ext lab_black\n",
    "import pandas as pd\n",
    "\n",
    "df = pd.read_hdf(\"../data/observations.hdf\", \"key\")\n",
    "df_evi = pd.read_csv(\"../data/satdata/evi.csv\", index_col=0)\n",
    "df_evi[\"year\"] = df_evi.index.str.slice(0, 4)\n",
    "df_evi_year = df_evi.groupby(df_evi.year).mean()\n",
    "df_evi_year.index = df_evi_year.index.astype(int)\n",
    "df_evi_year_change = df_evi_year.ffill().pct_change()\n",
    "df = df.groupby([\"BU_NAAM\", \"year\"]).sum()\n",
    "df = df[df.obs_rarity > 50].sort_values(\"year\")\n",
    "df = df.obs_rarity.unstack(\"year\")\n",
    "df_norm = df / df.sum()\n",
    "df_norm = df_norm.T\n",
    "df_change = df_norm.T.ffill().pct_change().T"
   ]
  },
  {
   "cell_type": "code",
   "execution_count": 160,
   "metadata": {},
   "outputs": [],
   "source": [
    "# heel lelijk\n",
    "res = []\n",
    "for year, row in df_norm.iterrows():\n",
    "    for wijk in row.keys():\n",
    "        try:\n",
    "            evi_val = df_evi_year.loc[int(year)][wijk]\n",
    "        except Exception:\n",
    "            continue\n",
    "        res.append({\"year\": year, \"wijk\": wijk, \"obs\": row[wijk], \"evi\": evi_val})"
   ]
  },
  {
   "cell_type": "code",
   "execution_count": 161,
   "metadata": {},
   "outputs": [
    {
     "data": {
      "text/html": [
       "<div>\n",
       "<style scoped>\n",
       "    .dataframe tbody tr th:only-of-type {\n",
       "        vertical-align: middle;\n",
       "    }\n",
       "\n",
       "    .dataframe tbody tr th {\n",
       "        vertical-align: top;\n",
       "    }\n",
       "\n",
       "    .dataframe thead th {\n",
       "        text-align: right;\n",
       "    }\n",
       "</style>\n",
       "<table border=\"1\" class=\"dataframe\">\n",
       "  <thead>\n",
       "    <tr style=\"text-align: right;\">\n",
       "      <th></th>\n",
       "      <th>year</th>\n",
       "      <th>wijk</th>\n",
       "      <th>obs</th>\n",
       "      <th>evi</th>\n",
       "    </tr>\n",
       "  </thead>\n",
       "  <tbody>\n",
       "    <tr>\n",
       "      <th>0</th>\n",
       "      <td>2000</td>\n",
       "      <td>Emer</td>\n",
       "      <td>0.181978</td>\n",
       "      <td>1974.230710</td>\n",
       "    </tr>\n",
       "    <tr>\n",
       "      <th>1</th>\n",
       "      <td>2000</td>\n",
       "      <td>Buitengebied Prinsenbeek</td>\n",
       "      <td>0.239906</td>\n",
       "      <td>4204.121843</td>\n",
       "    </tr>\n",
       "    <tr>\n",
       "      <th>2</th>\n",
       "      <td>2000</td>\n",
       "      <td>Ulvenhout</td>\n",
       "      <td>0.148625</td>\n",
       "      <td>3308.475932</td>\n",
       "    </tr>\n",
       "    <tr>\n",
       "      <th>3</th>\n",
       "      <td>2000</td>\n",
       "      <td>Mastbos</td>\n",
       "      <td>0.224108</td>\n",
       "      <td>3666.585093</td>\n",
       "    </tr>\n",
       "    <tr>\n",
       "      <th>4</th>\n",
       "      <td>2000</td>\n",
       "      <td>Doornbos-Linie</td>\n",
       "      <td>0.087185</td>\n",
       "      <td>2208.005288</td>\n",
       "    </tr>\n",
       "  </tbody>\n",
       "</table>\n",
       "</div>"
      ],
      "text/plain": [
       "   year                      wijk       obs          evi\n",
       "0  2000                      Emer  0.181978  1974.230710\n",
       "1  2000  Buitengebied Prinsenbeek  0.239906  4204.121843\n",
       "2  2000                 Ulvenhout  0.148625  3308.475932\n",
       "3  2000                   Mastbos  0.224108  3666.585093\n",
       "4  2000            Doornbos-Linie  0.087185  2208.005288"
      ]
     },
     "execution_count": 161,
     "metadata": {},
     "output_type": "execute_result"
    }
   ],
   "source": [
    "df_res = pd.DataFrame(res)\n",
    "df_res.head()"
   ]
  },
  {
   "cell_type": "code",
   "execution_count": 162,
   "metadata": {},
   "outputs": [
    {
     "data": {
      "text/plain": [
       "<matplotlib.axes._subplots.AxesSubplot at 0x7f623527dac0>"
      ]
     },
     "execution_count": 162,
     "metadata": {},
     "output_type": "execute_result"
    },
    {
     "data": {
      "image/png": "[encoded data removed]",
      "text/plain": [
       "<Figure size 432x288 with 1 Axes>"
      ]
     },
     "metadata": {
      "needs_background": "light"
     },
     "output_type": "display_data"
    }
   ],
   "source": [
    "df_res.plot.scatter(\"evi\", \"obs\")"
   ]
  },
  {
   "cell_type": "code",
   "execution_count": 170,
   "metadata": {},
   "outputs": [
    {
     "data": {
      "text/plain": [
       "evi\n",
       "(1170.443, 2218.112]    0.112578\n",
       "(2218.112, 2986.2]      0.025622\n",
       "(2986.2, 3647.413]      0.095950\n",
       "(3647.413, 4609.955]    0.110040\n",
       "Name: obs, dtype: float64"
      ]
     },
     "execution_count": 170,
     "metadata": {},
     "output_type": "execute_result"
    }
   ],
   "source": [
    "df_res.obs.groupby(pd.qcut(df_res.evi, 4)).mean()"
   ]
  },
  {
   "cell_type": "code",
   "execution_count": 166,
   "metadata": {},
   "outputs": [
    {
     "data": {
      "text/html": [
       "<div>\n",
       "<style scoped>\n",
       "    .dataframe tbody tr th:only-of-type {\n",
       "        vertical-align: middle;\n",
       "    }\n",
       "\n",
       "    .dataframe tbody tr th {\n",
       "        vertical-align: top;\n",
       "    }\n",
       "\n",
       "    .dataframe thead th {\n",
       "        text-align: right;\n",
       "    }\n",
       "</style>\n",
       "<table border=\"1\" class=\"dataframe\">\n",
       "  <thead>\n",
       "    <tr style=\"text-align: right;\">\n",
       "      <th></th>\n",
       "      <th>year</th>\n",
       "      <th>obs</th>\n",
       "      <th>evi</th>\n",
       "    </tr>\n",
       "  </thead>\n",
       "  <tbody>\n",
       "    <tr>\n",
       "      <th>year</th>\n",
       "      <td>1.000000</td>\n",
       "      <td>-0.346455</td>\n",
       "      <td>0.080295</td>\n",
       "    </tr>\n",
       "    <tr>\n",
       "      <th>obs</th>\n",
       "      <td>-0.346455</td>\n",
       "      <td>1.000000</td>\n",
       "      <td>0.177696</td>\n",
       "    </tr>\n",
       "    <tr>\n",
       "      <th>evi</th>\n",
       "      <td>0.080295</td>\n",
       "      <td>0.177696</td>\n",
       "      <td>1.000000</td>\n",
       "    </tr>\n",
       "  </tbody>\n",
       "</table>\n",
       "</div>"
      ],
      "text/plain": [
       "          year       obs       evi\n",
       "year  1.000000 -0.346455  0.080295\n",
       "obs  -0.346455  1.000000  0.177696\n",
       "evi   0.080295  0.177696  1.000000"
      ]
     },
     "execution_count": 166,
     "metadata": {},
     "output_type": "execute_result"
    }
   ],
   "source": [
    "df_res.corr()"
   ]
  }
 ],
 "metadata": {
  "kernelspec": {
   "display_name": "Python 3",
   "language": "python",
   "name": "python3"
  },
  "language_info": {
   "codemirror_mode": {
    "name": "ipython",
    "version": 3
   },
   "file_extension": ".py",
   "mimetype": "text/x-python",
   "name": "python",
   "nbconvert_exporter": "python",
   "pygments_lexer": "ipython3",
   "version": "3.8.3"
  }
 },
 "nbformat": 4,
 "nbformat_minor": 4
}
