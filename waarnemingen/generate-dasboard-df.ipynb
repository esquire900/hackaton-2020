{
 "cells": [
  {
   "cell_type": "code",
   "execution_count": 14,
   "metadata": {},
   "outputs": [
    {
     "name": "stdout",
     "output_type": "stream",
     "text": [
      "The lab_black extension is already loaded. To reload it, use:\n",
      "  %reload_ext lab_black\n"
     ]
    }
   ],
   "source": [
    "%load_ext lab_black\n",
    "import pandas as pd\n",
    "import matplotlib.pyplot as plt\n",
    "\n",
    "df = pd.read_hdf(\"../data/observations.hdf\", \"key\")\n",
    "df.obs_rarity = df.obs_rarity.clip(1, 1)\n",
    "df = df.groupby([\"BU_NAAM\", \"year\"]).sum()\n",
    "df = df[df.obs_rarity > 0].sort_values(\"year\")\n",
    "df = df.obs_rarity.unstack(\"year\")\n",
    "\n",
    "df_norm = df / df.sum()\n",
    "df_norm = df_norm.T\n",
    "\n",
    "df_norm_wijk = df.T / df.T.mean()\n",
    "\n",
    "df_evi = pd.read_csv(\"../data/satdata/evi.csv\", index_col=0)\n",
    "df_evi[\"year\"] = df_evi.index.str.slice(0, 4)\n",
    "df_evi_year = df_evi.groupby(df_evi.year).mean()\n",
    "df_evi_year.index = df_evi_year.index.astype(int)\n",
    "df_evi_year_change = df_evi_year.ffill().pct_change()"
   ]
  },
  {
   "cell_type": "code",
   "execution_count": 15,
   "metadata": {},
   "outputs": [],
   "source": [
    "# heel lelijk\n",
    "res = []\n",
    "for (\n",
    "    year,\n",
    "    row,\n",
    ") in (\n",
    "    df.T.iterrows()\n",
    "):  # itereer over df_norm (normalized per year (/ sum year)) of over df.T\n",
    "    for wijk in row.keys():\n",
    "        try:\n",
    "            evi_val = df_evi_year.loc[int(year)][wijk]\n",
    "        except Exception:\n",
    "            continue\n",
    "        res.append({\"year\": year, \"wijk\": wijk, \"obs\": row[wijk], \"evi\": evi_val})\n",
    "df_obs = pd.DataFrame(res)\n",
    "# df_res.head()"
   ]
  },
  {
   "cell_type": "code",
   "execution_count": 25,
   "metadata": {},
   "outputs": [],
   "source": [
    "evi = pd.read_csv(\n",
    "    \"../data/satdata/evi.csv\", parse_dates=[0], index_col=[0]\n",
    ").interpolate()\n",
    "stemp = pd.read_csv(\n",
    "    \"../data/satdata/stemp.csv\", parse_dates=[0], index_col=[0]\n",
    ").interpolate()\n",
    "df = pd.concat([evi, stemp], axis=1, keys=[\"evi\", \"stemp\"])\n",
    "# display(df.head(2))\n",
    "df_year = df.groupby(df.index.year).mean()\n",
    "df_year = df_year.interpolate()\n",
    "# display(df_year.head(2))\n",
    "df_res = df_year.unstack().reset_index()\n",
    "df_res.columns = [\"type\", \"buurt\", \"year\", \"value\"]\n",
    "df_res = df_res.pivot_table(\n",
    "    index=[\"year\", \"buurt\"], columns=[\"type\"], values=\"value\"\n",
    ").reset_index()"
   ]
  },
  {
   "cell_type": "code",
   "execution_count": 34,
   "metadata": {},
   "outputs": [
    {
     "data": {
      "text/html": [
       "<div>\n",
       "<style scoped>\n",
       "    .dataframe tbody tr th:only-of-type {\n",
       "        vertical-align: middle;\n",
       "    }\n",
       "\n",
       "    .dataframe tbody tr th {\n",
       "        vertical-align: top;\n",
       "    }\n",
       "\n",
       "    .dataframe thead th {\n",
       "        text-align: right;\n",
       "    }\n",
       "</style>\n",
       "<table border=\"1\" class=\"dataframe\">\n",
       "  <thead>\n",
       "    <tr style=\"text-align: right;\">\n",
       "      <th></th>\n",
       "      <th>evi</th>\n",
       "      <th>stemp</th>\n",
       "      <th>fauna_observaties</th>\n",
       "    </tr>\n",
       "    <tr>\n",
       "      <th>buurt</th>\n",
       "      <th></th>\n",
       "      <th></th>\n",
       "      <th></th>\n",
       "    </tr>\n",
       "  </thead>\n",
       "  <tbody>\n",
       "    <tr>\n",
       "      <th>Bavel</th>\n",
       "      <td>3194.347990</td>\n",
       "      <td>15.954720</td>\n",
       "      <td>2.0</td>\n",
       "    </tr>\n",
       "    <tr>\n",
       "      <th>Belcrum</th>\n",
       "      <td>1694.862223</td>\n",
       "      <td>18.132316</td>\n",
       "      <td>24.0</td>\n",
       "    </tr>\n",
       "    <tr>\n",
       "      <th>Biesdonk</th>\n",
       "      <td>2351.349178</td>\n",
       "      <td>18.027243</td>\n",
       "      <td>NaN</td>\n",
       "    </tr>\n",
       "    <tr>\n",
       "      <th>Blauwe Kei</th>\n",
       "      <td>2338.224492</td>\n",
       "      <td>16.862336</td>\n",
       "      <td>1.0</td>\n",
       "    </tr>\n",
       "    <tr>\n",
       "      <th>Boeimeer</th>\n",
       "      <td>2514.654895</td>\n",
       "      <td>16.768688</td>\n",
       "      <td>85.0</td>\n",
       "    </tr>\n",
       "  </tbody>\n",
       "</table>\n",
       "</div>"
      ],
      "text/plain": [
       "                    evi      stemp  fauna_observaties\n",
       "buurt                                                \n",
       "Bavel       3194.347990  15.954720                2.0\n",
       "Belcrum     1694.862223  18.132316               24.0\n",
       "Biesdonk    2351.349178  18.027243                NaN\n",
       "Blauwe Kei  2338.224492  16.862336                1.0\n",
       "Boeimeer    2514.654895  16.768688               85.0"
      ]
     },
     "execution_count": 34,
     "metadata": {},
     "output_type": "execute_result"
    }
   ],
   "source": [
    "df_total = df_res[df_res.year == 2019].sort_values(\"buurt\")\n",
    "df_eind = pd.merge(\n",
    "    df_total,\n",
    "    df_obs[df_obs.year == 2019][[\"obs\", \"wijk\"]],\n",
    "    left_on=[\"buurt\"],\n",
    "    right_on=[\"wijk\"],\n",
    ")[[\"buurt\", \"evi\", \"stemp\", \"obs\"]].set_index(\"buurt\")\n",
    "df_eind.columns = [\"evi\", \"stemp\", \"fauna_observaties\"]\n",
    "df_eind.head()"
   ]
  },
  {
   "cell_type": "code",
   "execution_count": 36,
   "metadata": {},
   "outputs": [],
   "source": [
    "df_eind.to_hdf(\"./../data/dashboard-data.v01.hdf\", \"key\")"
   ]
  }
 ],
 "metadata": {
  "kernelspec": {
   "display_name": "Python 3",
   "language": "python",
   "name": "python3"
  },
  "language_info": {
   "codemirror_mode": {
    "name": "ipython",
    "version": 3
   },
   "file_extension": ".py",
   "mimetype": "text/x-python",
   "name": "python",
   "nbconvert_exporter": "python",
   "pygments_lexer": "ipython3",
   "version": "3.8.3"
  }
 },
 "nbformat": 4,
 "nbformat_minor": 4
}
