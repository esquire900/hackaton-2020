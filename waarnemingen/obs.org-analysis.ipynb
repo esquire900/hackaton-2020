{
 "cells": [
  {
   "cell_type": "code",
   "execution_count": 22,
   "metadata": {},
   "outputs": [
    {
     "name": "stdout",
     "output_type": "stream",
     "text": [
      "The lab_black extension is already loaded. To reload it, use:\n",
      "  %reload_ext lab_black\n"
     ]
    }
   ],
   "source": [
    "%load_ext lab_black\n",
    "\n",
    "import pandas as pd\n",
    "import geopandas as gpd\n",
    "import ee\n",
    "from geopandas.tools import sjoin\n",
    "from shapely.geometry import Point\n",
    "from geopandas.tools import sjoin\n",
    "from shapely.geometry import Point\n",
    "\n",
    "cols_i = [\n",
    "    \"identifier\",\n",
    "    \"modified\",\n",
    "    \"references\",\n",
    "    \"catalogNumber\",\n",
    "    \"individualCount\",\n",
    "    \"eventDate\",\n",
    "    \"eventTime\",\n",
    "    \"locality\",\n",
    "    \"decimalLatitude\",\n",
    "    \"decimalLongitude\",\n",
    "    \"scientificName\",\n",
    "    \"higherClassification\",\n",
    "    \"taxonKey\",\n",
    "    \"speciesKey\",\n",
    "    \"genericName\",\n",
    "    \"acceptedScientificName\",\n",
    "    \"verbatimScientificName\",\n",
    "    \"level2Name\",\n",
    "]"
   ]
  },
  {
   "cell_type": "code",
   "execution_count": 15,
   "metadata": {},
   "outputs": [],
   "source": [
    "df = pd.read_hdf(\"/data/projects/hackaton-2020/observations.hdf\", \"key\")"
   ]
  },
  {
   "cell_type": "code",
   "execution_count": 16,
   "metadata": {},
   "outputs": [
    {
     "data": {
      "text/plain": [
       "<matplotlib.axes._subplots.AxesSubplot at 0x7fcfda52d400>"
      ]
     },
     "execution_count": 16,
     "metadata": {},
     "output_type": "execute_result"
    },
    {
     "data": {
      "image/png": "[encoded data removed]",
      "text/plain": [
       "<Figure size 432x288 with 1 Axes>"
      ]
     },
     "metadata": {
      "needs_background": "light"
     },
     "output_type": "display_data"
    }
   ],
   "source": [
    "df = df[~pd.isna(df.eventDate)]\n",
    "df = df[df.eventDate.str.slice(0, 4).astype(int) > 1950]\n",
    "df[\"event_date\"] = pd.to_datetime([t.split(\"T\")[0] for t in df.eventDate])\n",
    "df[\"year\"] = df.eventDate.str.slice(0, 4).astype(int)\n",
    "df.groupby(df.year).count().identifier.plot.bar()"
   ]
  },
  {
   "cell_type": "code",
   "execution_count": 18,
   "metadata": {},
   "outputs": [
    {
     "data": {
      "text/plain": [
       "(623238, 20)"
      ]
     },
     "execution_count": 18,
     "metadata": {},
     "output_type": "execute_result"
    }
   ],
   "source": [
    "df.shape"
   ]
  },
  {
   "cell_type": "code",
   "execution_count": 23,
   "metadata": {},
   "outputs": [
    {
     "data": {
      "text/plain": [
       "<matplotlib.axes._subplots.AxesSubplot at 0x7fcfd8a64b20>"
      ]
     },
     "execution_count": 23,
     "metadata": {},
     "output_type": "execute_result"
    },
    {
     "data": {
      "image/png": "[encoded data removed]",
      "text/plain": [
       "<Figure size 432x288 with 1 Axes>"
      ]
     },
     "metadata": {
      "needs_background": "light"
     },
     "output_type": "display_data"
    }
   ],
   "source": [
    "df_species = pd.read_csv(\"/data/projects/hackaton-2020/species.csv\", sep=\";\")\n",
    "df_species = df_species[[\"Wetenschappelijke naam\", \"Zeldzaamheid\", \"Soortgroep\"]]\n",
    "df_species.columns = [\"name\", \"rarity\", \"species_type\"]\n",
    "df_m = pd.merge(\n",
    "    df, df_species, how=\"left\", left_on=[\"verbatimScientificName\"], right_on=[\"name\"]\n",
    ")\n",
    "df_m.groupby(df_m.year).mean().rarity.plot.bar()"
   ]
  },
  {
   "cell_type": "code",
   "execution_count": 24,
   "metadata": {
    "collapsed": false,
    "jupyter": {
     "outputs_hidden": false
    },
    "pycharm": {
     "name": "#%%\n"
    }
   },
   "outputs": [],
   "source": [
    "df_evi = pd.read_csv(\"../data/satdata/evi.csv\")\n",
    "buurten = gpd.read_file(\"../data/shape/breda_buurten.shp\")\n",
    "buurten = buurten.to_crs(epsg=4326)  # to lat-lon\n",
    "points = [Point(xy) for xy in zip(df.decimalLongitude, df.decimalLatitude)]\n",
    "df_geo = gpd.GeoDataFrame(crs=\"epsg:4326\", geometry=points)\n",
    "df_joined = sjoin(df_geo, buurten)\n",
    "df_joined[\"year\"] = df_m.loc[df_joined.index].year\n",
    "df_joined[\"obs_rarity\"] = df_m.loc[df_joined.index].rarity\n",
    "df_joined[\"species_type\"] = df_m.loc[df_joined.index].species_type"
   ]
  },
  {
   "cell_type": "code",
   "execution_count": 25,
   "metadata": {},
   "outputs": [
    {
     "data": {
      "text/plain": [
       "(237663, 48)"
      ]
     },
     "execution_count": 25,
     "metadata": {},
     "output_type": "execute_result"
    }
   ],
   "source": [
    "points = [Point(xy) for xy in zip(df.decimalLongitude, df.decimalLatitude)]\n",
    "df_geo = gpd.GeoDataFrame(crs=\"epsg:4326\", geometry=points)\n",
    "df_joined = sjoin(df_geo, buurten)\n",
    "df_joined[\"year\"] = df_m.loc[df_joined.index].year\n",
    "df_joined[\"obs_rarity\"] = df_m.loc[df_joined.index].rarity\n",
    "df_joined[\"species_type\"] = df_m.loc[df_joined.index].species_type\n",
    "df_joined.shape"
   ]
  },
  {
   "cell_type": "code",
   "execution_count": 92,
   "metadata": {},
   "outputs": [],
   "source": [
    "df_joined[[\"BU_NAAM\", \"year\", \"obs_rarity\", \"species_type\"]].to_hdf(\n",
    "    \"./../data/observations.hdf\", key=\"key\", complevel=9\n",
    ")"
   ]
  },
  {
   "cell_type": "code",
   "execution_count": 28,
   "metadata": {
    "pycharm": {
     "name": "#%%\n"
    }
   },
   "outputs": [
    {
     "data": {
      "text/html": [
       "<div>\n",
       "<style scoped>\n",
       "    .dataframe tbody tr th:only-of-type {\n",
       "        vertical-align: middle;\n",
       "    }\n",
       "\n",
       "    .dataframe tbody tr th {\n",
       "        vertical-align: top;\n",
       "    }\n",
       "\n",
       "    .dataframe thead th {\n",
       "        text-align: right;\n",
       "    }\n",
       "</style>\n",
       "<table border=\"1\" class=\"dataframe\">\n",
       "  <thead>\n",
       "    <tr style=\"text-align: right;\">\n",
       "      <th></th>\n",
       "      <th>BU_NAAM</th>\n",
       "      <th>year</th>\n",
       "      <th>obs_rarity</th>\n",
       "      <th>species_type</th>\n",
       "    </tr>\n",
       "  </thead>\n",
       "  <tbody>\n",
       "    <tr>\n",
       "      <th>0</th>\n",
       "      <td>Mastbos</td>\n",
       "      <td>2006</td>\n",
       "      <td>1.0</td>\n",
       "      <td>9.0</td>\n",
       "    </tr>\n",
       "    <tr>\n",
       "      <th>4</th>\n",
       "      <td>Mastbos</td>\n",
       "      <td>2016</td>\n",
       "      <td>1.0</td>\n",
       "      <td>1.0</td>\n",
       "    </tr>\n",
       "    <tr>\n",
       "      <th>7</th>\n",
       "      <td>Mastbos</td>\n",
       "      <td>2017</td>\n",
       "      <td>1.0</td>\n",
       "      <td>2.0</td>\n",
       "    </tr>\n",
       "    <tr>\n",
       "      <th>13</th>\n",
       "      <td>Mastbos</td>\n",
       "      <td>2018</td>\n",
       "      <td>2.0</td>\n",
       "      <td>10.0</td>\n",
       "    </tr>\n",
       "    <tr>\n",
       "      <th>20</th>\n",
       "      <td>Mastbos</td>\n",
       "      <td>2012</td>\n",
       "      <td>1.0</td>\n",
       "      <td>1.0</td>\n",
       "    </tr>\n",
       "    <tr>\n",
       "      <th>...</th>\n",
       "      <td>...</td>\n",
       "      <td>...</td>\n",
       "      <td>...</td>\n",
       "      <td>...</td>\n",
       "    </tr>\n",
       "    <tr>\n",
       "      <th>370698</th>\n",
       "      <td>Biesdonk</td>\n",
       "      <td>2015</td>\n",
       "      <td>1.0</td>\n",
       "      <td>1.0</td>\n",
       "    </tr>\n",
       "    <tr>\n",
       "      <th>402508</th>\n",
       "      <td>Biesdonk</td>\n",
       "      <td>1987</td>\n",
       "      <td>1.0</td>\n",
       "      <td>10.0</td>\n",
       "    </tr>\n",
       "    <tr>\n",
       "      <th>402584</th>\n",
       "      <td>Biesdonk</td>\n",
       "      <td>1989</td>\n",
       "      <td>1.0</td>\n",
       "      <td>10.0</td>\n",
       "    </tr>\n",
       "    <tr>\n",
       "      <th>402629</th>\n",
       "      <td>Biesdonk</td>\n",
       "      <td>2018</td>\n",
       "      <td>1.0</td>\n",
       "      <td>10.0</td>\n",
       "    </tr>\n",
       "    <tr>\n",
       "      <th>528240</th>\n",
       "      <td>Biesdonk</td>\n",
       "      <td>2007</td>\n",
       "      <td>1.0</td>\n",
       "      <td>9.0</td>\n",
       "    </tr>\n",
       "  </tbody>\n",
       "</table>\n",
       "<p>237663 rows × 4 columns</p>\n",
       "</div>"
      ],
      "text/plain": [
       "         BU_NAAM  year  obs_rarity  species_type\n",
       "0        Mastbos  2006         1.0           9.0\n",
       "4        Mastbos  2016         1.0           1.0\n",
       "7        Mastbos  2017         1.0           2.0\n",
       "13       Mastbos  2018         2.0          10.0\n",
       "20       Mastbos  2012         1.0           1.0\n",
       "...          ...   ...         ...           ...\n",
       "370698  Biesdonk  2015         1.0           1.0\n",
       "402508  Biesdonk  1987         1.0          10.0\n",
       "402584  Biesdonk  1989         1.0          10.0\n",
       "402629  Biesdonk  2018         1.0          10.0\n",
       "528240  Biesdonk  2007         1.0           9.0\n",
       "\n",
       "[237663 rows x 4 columns]"
      ]
     },
     "execution_count": 28,
     "metadata": {},
     "output_type": "execute_result"
    }
   ],
   "source": [
    "df_joined[[\"BU_NAAM\", \"year\", \"obs_rarity\", \"species_type\"]]"
   ]
  }
 ],
 "metadata": {
  "kernelspec": {
   "display_name": "Python 3",
   "language": "python",
   "name": "python3"
  },
  "language_info": {
   "codemirror_mode": {
    "name": "ipython",
    "version": 3
   },
   "file_extension": ".py",
   "mimetype": "text/x-python",
   "name": "python",
   "nbconvert_exporter": "python",
   "pygments_lexer": "ipython3",
   "version": "3.8.3"
  }
 },
 "nbformat": 4,
 "nbformat_minor": 4
}